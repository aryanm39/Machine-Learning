{
  "nbformat": 4,
  "nbformat_minor": 0,
  "metadata": {
    "colab": {
      "provenance": []
    },
    "kernelspec": {
      "name": "python3",
      "display_name": "Python 3"
    },
    "language_info": {
      "name": "python"
    }
  },
  "cells": [
    {
      "cell_type": "code",
      "execution_count": null,
      "metadata": {
        "id": "ctFo7TKQyfuO"
      },
      "outputs": [],
      "source": [
        "#1,11\n",
        "'''Write a python program to create a pie plot to get the frequency of the three species of the iris data(Use iris.csv)'''\n",
        "#21,24\n",
        "'''Write a python program to create a histogram of the three species of the iris data.'''\n",
        "#17\n",
        "'''Write a python program to draw scatter plots to compare two features of the iris dataset'''\n",
        "\n",
        "#21,24\n",
        "'''Import dataset \"iris.csv\" Write a python program to create a Bar plot to get the frequency of the three species of the iris data'''\n",
        "\n",
        "import numpy as np\n",
        "import pandas as pd\n",
        "import matplotlib.pyplot as plt\n",
        "import seaborn as sns\n",
        "\n",
        "#pie plot\n",
        "iris = pd.read_csv(\"iris.csv\")\n",
        "iris['Species'].value_counts().plot.pie(explode=[0.1,0.1,0.1],autopct='%1.1f%%')\n",
        "plt.title(\"Iris Species %\")\n",
        "plt.show()\n",
        "\n",
        "#histogram\n",
        "a = pd.read_csv('iris.csv')\n",
        "x = a['SepalLengthCm']\n",
        "plt.hist(x,bins=10,color='yellow',edgecolor='blue')\n",
        "plt.xlabel('X-axis',fontweight='bold',fontsize=10,color='blue')\n",
        "plt.ylabel('Y-axis',fontweight='bold',fontsize=10,color='blue')\n",
        "plt.title(\"Histogram Chart\",fontweight='bold',fontsize=15,color='red')\n",
        "plt.show()\n",
        "\n",
        "#Scatter plot\n",
        "\n",
        "df = pd.read_csv(\"iris.csv\")\n",
        "sns.FacetGrid(df,hue='Species').map(plt.scatter,'SepalLengthCm','PetalLengthCm')\n",
        "plt.show()\n",
        "\n",
        "#bar plot\n",
        "x = iris['Species']\n",
        "y = iris['SepalLengthCm']\n",
        "plt.bar(x,y,color='green')\n",
        "plt.xlabel(\"Classes\",fontweight='bold',fontsize=10,color='blue')\n",
        "plt.ylabel(\"Sepal length\",fontweight='bold',fontsize=10,color='green')\n",
        "plt.title(\"Iris Species Count\")\n",
        "plt.show()"
      ]
    },
    {
      "cell_type": "code",
      "source": [
        "#1,11\n",
        "'''Write the python program to view basic statistical details of the data(Use winequality-red.csv).'''\n",
        "#3\n",
        "'''Write a Python program to view basic statistical details of the data(Use Heights and Weights dataset)'''\n",
        "#14\n",
        "'''Write a python program to view basic statistical details of the data\n",
        "(Use advertising.csv)'''\n",
        "\n",
        "\n",
        "import pandas as pd\n",
        "df=pd.read_csv('HeightWeight.csv')\n",
        "print('Statistical details:- \\n')\n",
        "print(df.describe())\n"
      ],
      "metadata": {
        "id": "Vi-FVz20y-Oi"
      },
      "execution_count": null,
      "outputs": []
    },
    {
      "cell_type": "code",
      "source": [
        "#2,6\n",
        "'''Write a python program for handling missing value.Replace missing value of salary.age column with mean of that column(Use Data.csv file)'''\n",
        "\n",
        "import numpy as np\n",
        "import pandas as pd\n",
        "\n",
        "df =  pd.read_csv(\"Data.csv\")\n",
        "agemean = df['Age'].mean()\n",
        "salarymean = df['Salary'].mean()\n",
        "df['Age'].fillna(agemean, inplace=True)\n",
        "df['Salary'].fillna(salarymean, inplace=True)\n",
        "print(\"\\n\\nMissing values for age and salary Replaced with MeanValue:\")\n",
        "print(df)"
      ],
      "metadata": {
        "id": "-DXdsDtpzDgi"
      },
      "execution_count": null,
      "outputs": []
    },
    {
      "cell_type": "code",
      "source": [
        "#12\n",
        "'''Write a Python program to create data frame containing column name,salary,department\n",
        "add 10 rows with some missing and duplicate values to the data frame.\n",
        "Also drop all null and empty values.print the modified data frame.'''\n",
        "\n",
        "import numpy as np\n",
        "import pandas as pd\n",
        "df = pd.DataFrame(columns=['name','salary','department'])\n",
        "df.loc[0] = ['a',100000,'IT']\n",
        "df.loc[1] = ['b',None,'IT']\n",
        "df.loc[2] = ['c',100000,'Computer']\n",
        "df.loc[3] = ['d',45400,None]\n",
        "print(\"missing value\\n\",df.isnull())\n",
        "print('duplicated value\\n',df.duplicated())\n",
        "print('Modified Dataframe\\n')\n",
        "df.dropna(inplace=True)\n",
        "df.replace(' ',np.nan,inplace=True)\n",
        "print(df)"
      ],
      "metadata": {
        "id": "3L0Q2b-ezDw8"
      },
      "execution_count": null,
      "outputs": []
    },
    {
      "cell_type": "code",
      "source": [
        "#3,18\n",
        "'''Write a python program to create box plots to see how each feature i.e. Sepal Length,Sepal width,Petal length,Petal width are distributed\n",
        "across the three species(Use iris.csv dataset)'''\n",
        "\n",
        "import pandas as pd\n",
        "import matplotlib.pyplot as plt\n",
        "data = pd.read_csv(\"iris.csv\")\n",
        "new_data = data[[\"SepalLengthCm\",\"SepalWidthCm\",\"PetalLengthCm\",\"PetalWidthCm\"]]\n",
        "#print(new_data.head())\n",
        "new_data.boxplot()\n",
        "plt.title('Box Plot')\n",
        "plt.show()"
      ],
      "metadata": {
        "id": "2ZhYTj0ZzEE2"
      },
      "execution_count": null,
      "outputs": []
    },
    {
      "cell_type": "code",
      "source": [
        "#4,5,12,15,20,25,26,30\n",
        "\n",
        "#30\n",
        "'''Generate a random array of 50 integers and display them using a line chart,scatter plot,histogram and box plot.\n",
        "Apply appropriate color ,labels and styling options'''\n",
        "#9\n",
        "'''Generate a random array of 50 integers and display them using a line chart,scatter plot\n",
        "Apply appropriate color,labels and styling options'''\n",
        "\n",
        "import numpy as np\n",
        "import matplotlib.pyplot as plt\n",
        "a = np.random.randint(100,size=(50))\n",
        "\n",
        "#Line Chart\n",
        "x = np.random.randint(100,size=(50))\n",
        "y = np.random.randint(100,size=(50))\n",
        "plt.plot(x,y,color='blue',linestyle='dashed',marker='*',markerfacecolor='red')\n",
        "plt.xlabel(\"X-axis\",fontweight='bold',fontsize=10,color='blue')\n",
        "plt.ylabel(\"Y-axis\",fontweight='bold',fontsize=10,color='blue')\n",
        "plt.title(\"Line Chart\",fontweight='bold',fontsize=15,color='red')\n",
        "plt.show()\n",
        "\n",
        "#Scatter Plot\n",
        "x = np.random.randint(100,size=(50))\n",
        "y = np.random.randint(100,size=(50))\n",
        "plt.scatter(x,y,marker=\"^\",edgecolor='r',s=50,linewidths=2,color='yellow')\n",
        "plt.xlabel(\"X-axis\",fontweight='bold',fontsize=10,color='blue')\n",
        "plt.ylabel(\"Y-axis\",fontweight='bold',fontsize=10,color='blue')\n",
        "plt.title(\"Scatter Chart\",fontweight='bold',fontsize=15,color='red')\n",
        "plt.show()\n",
        "\n",
        "#Histogram\n",
        "plt.hist(a,bins=10,color='pink',edgecolor='blue')\n",
        "plt.xlabel(\"X-axis\",fontweight='bold',fontsize=10,color='blue')\n",
        "plt.ylabel(\"Y-axis\",fontweight='bold',fontsize=10,color='blue')\n",
        "plt.title(\"Histogram Chart\",fontweight='bold',fontsize=15,color='red')\n",
        "plt.show()\n",
        "\n",
        "#Box Plot\n",
        "plt.boxplot(a)\n",
        "plt.show()"
      ],
      "metadata": {
        "id": "R0IAH4P4zN3d"
      },
      "execution_count": null,
      "outputs": []
    },
    {
      "cell_type": "code",
      "source": [
        "#4,5\n",
        "'''Write a Python program to print the shape,number of rows-columns,data types,feature names and the description of the data\n",
        "(Use User_Data.csv)'''\n",
        "\n",
        "\n",
        "import pandas as pd\n",
        "import numpy as np\n",
        "import matplotlib.pyplot as plt\n",
        "df=pd.read_csv('HeightWeight.csv')\n",
        "print(df.shape)\n",
        "print('\\nShape of dataframe',df.shape)\n",
        "print('\\nNumber of rows and columns ',df.size)\n",
        "print('\\nData types for DataFrame\\n',df.dtypes)\n",
        "print('\\nNumber of rows:',df.shape[0])\n",
        "print('\\nNumber of column:',df.shape[1])\n",
        "print('\\nFeature names in dataframe is: \\n',df.columns)\n",
        "print('\\nDiscription of the data',df.describe())\n"
      ],
      "metadata": {
        "id": "mS86vswlzOLu"
      },
      "execution_count": null,
      "outputs": []
    },
    {
      "cell_type": "code",
      "source": [
        "#7\n",
        "'''Write the python program to perform the following tasks:\n",
        "a. Apply Onehot coding on country column\n",
        "b. Apply Label encoding on purchased column\n",
        "(Data.csv have two categorical column the country column,and the purchased column)'''\n",
        "\n",
        "#27,29\n",
        "'''Create a dataset data.csv having two categorial column (the country column,and the purchased column.)\n",
        "a. Apply Onehot coding on country column\n",
        "b. Apply Label encoding on purchased column'''\n",
        "\n",
        "from sklearn.preprocessing import OneHotEncoder,LabelEncoder\n",
        "import pandas as pd\n",
        "df = pd.read_csv('Data.csv')\n",
        "\n",
        "hotencoder = OneHotEncoder()\n",
        "enc_df = pd.DataFrame(hotencoder.fit_transform(df[['Country']]).toarray())\n",
        "df = df.join(enc_df)\n",
        "print('\\n\\nOnehot encoding on country column')\n",
        "print('-----------------------')\n",
        "print(df)\n",
        "labelencoder=LabelEncoder()\n",
        "df['Purchased']=labelencoder.fit_transform(df['Purchased'])\n",
        "print('\\n\\nLabel encoding on purchased column')\n",
        "print(df)"
      ],
      "metadata": {
        "id": "k2TtmwmmzOW1"
      },
      "execution_count": null,
      "outputs": []
    },
    {
      "cell_type": "code",
      "source": [
        "#10\n",
        "'''Write a python program to compute sum of Manhatten distance between all pairs of points.'''\n",
        "\n",
        "import numpy as np\n",
        "a=[1,2,3]\n",
        "b=[5,3,2]\n",
        "dis=0\n",
        "for i in range(len(a)):\n",
        "\tdis+=abs(a[i]-b[i])\n",
        "print('first array is:',a)\n",
        "print('second array is:',b)\n",
        "print('Manhattan distance is:',dis)"
      ],
      "metadata": {
        "id": "VhRSNhdbzOkf"
      },
      "execution_count": null,
      "outputs": []
    },
    {
      "cell_type": "code",
      "source": [
        "#9,15,25\n",
        "'''Create two lists,one representing subject names and the other representing marks obtained in those subjects.Display the data in a pie chart'''\n",
        "\n",
        "#16\n",
        "'''Write a python program to create rwo lists,one representing subject names and the other representing marks obtained in those subjects.\n",
        "Display the data in a pie chart and bar chart'''\n",
        "#26,30\n",
        "'''create two lists,one representing subject names and the other representing marks obtained in those subjects.\n",
        "Display the data in bar chart'''\n",
        "\n",
        "import numpy as np\n",
        "import matplotlib.pyplot as plt\n",
        "Subjects  = ['C','C++','JAVA','PYTHON','PHP','DSA','BT']\n",
        "Marks = [90,75,97,86,67,92,91]\n",
        "plt.bar(Subjects,Marks,color='green',edgecolor='magenta',width=0.4)\n",
        "plt.xlabel(\"Subjects\",fontweight='bold',fontsize=10,color='blue')\n",
        "plt.ylabel(\"Marks\",fontweight='bold',fontsize=10,color='blue')\n",
        "plt.title(\"Subjects with marks\",fontweight='bold',fontsize=15,color='red')\n",
        "plt.show()\n",
        "\n",
        "plt.pie(Marks,labels=Subjects)\n",
        "plt.legend(Subjects,title=\"Subjects\",loc='center left',bbox_to_anchor=(1,1,-0.5,-0.5))\n",
        "plt.title(\"Subjects vs Marks in pie chart\",color=\"red\")\n",
        "plt.show()\n"
      ],
      "metadata": {
        "id": "E2i050I0zOvX"
      },
      "execution_count": null,
      "outputs": []
    },
    {
      "cell_type": "code",
      "source": [
        "#13\n",
        "'''Write a python program to finds the maximum and minimum value of a given flattened array'''\n",
        "import numpy as np\n",
        "data=np.array([[0,1],[2,3]])\n",
        "print(data)\n",
        "#max=np.max(data)\n",
        "#min=np.min(data)\n",
        "print('Maximum value of above flattend array: ')\n",
        "print(data.max())\n",
        "print('Minimum value of above flattend array: ')\n",
        "print(data.min())\n",
        "\n"
      ],
      "metadata": {
        "id": "jjz3ZhQGzf0d"
      },
      "execution_count": null,
      "outputs": []
    },
    {
      "cell_type": "code",
      "source": [
        "#2,6\n",
        "'''Download the heights and weights dataset and load the dataset from a given csv file into a dataframe.\n",
        "print the first,last 10 rows and random 20 rows also display shape of the dataset.'''\n",
        "#10\n",
        "'''Write a python program to Display column-wise mean,and median for SOCR-heightWeight dataset'''\n",
        "#18\n",
        "'''Use the heights and weights dataset and load the dataset from a given csv file into a dataframe.\n",
        "print the first,last 5 rows and random 10 row'''\n",
        "\n",
        "#2,6\n",
        "import pandas as pd\n",
        "import numpy as np\n",
        "df=pd.read_csv('HeightWeight.csv')\n",
        "\n",
        "print('Reading first 10 rows: ')\n",
        "print(df.head(10))\n",
        "\n",
        "print('Reading last 10 rows: ')\n",
        "print(df.tail(10))\n",
        "\n",
        "print('Reading random 20 random rows: ')\n",
        "print(df.sample(20))\n",
        "\n",
        "print('Shape of the Dataset',df.shape)\n",
        "\n",
        "print('Mean: ',df.mean())\n",
        "print('Median: ',df.median())\n",
        "\n"
      ],
      "metadata": {
        "id": "GI9NFzIxzgH6"
      },
      "execution_count": null,
      "outputs": []
    },
    {
      "cell_type": "code",
      "source": [
        "#14\n",
        "'''Write a python numpy program to compute the weighted average along the specified axis of a given flattened array.'''\n",
        "\n",
        "import numpy as np\n",
        "a = np.array([[0,1,2],[3,4,5],[6,7,8]])\n",
        "print(\"Original flattened array:\")\n",
        "print(a)\n",
        "print(\"Weighted average along the specified axis of the above flattened array\")\n",
        "print(np.average(a,axis=1,weights=[1./4, 2./4, 2./4]))\n",
        "\n"
      ],
      "metadata": {
        "id": "krQfxbXWzgT8"
      },
      "execution_count": null,
      "outputs": []
    },
    {
      "cell_type": "code",
      "source": [
        "#16\n",
        "'''Write a python program to create a data frame for students information such as name,graduation percentage and age.\n",
        "Display average age of students,average of graduation percentage'''\n",
        "\n",
        "import numpy as np\n",
        "import pandas as pd\n",
        "data = {'name':['raqhul','rohan','kiran','hitesh'],'grad_percentage':[30,40,50,60],'age':[24,27,21,22]}\n",
        "df = pd.DataFrame(data)\n",
        "print(df)\n",
        "mean_percentage = np.mean(df['grad_percentage'])\n",
        "print(\"mean of graduation percentage is\",mean_percentage)\n",
        "mean_age = np.mean(df['age'])\n",
        "print(\"mean of age is\",mean_age)\n",
        "print(df.describe())"
      ],
      "metadata": {
        "id": "eQ0lFhhrzgfM"
      },
      "execution_count": null,
      "outputs": []
    },
    {
      "cell_type": "code",
      "source": [
        "#17\n",
        "'''Write a python program to create a data frame containing columns name,age,salary,department.Add 10 rows to the data frame.\n",
        "View the data frame.'''\n",
        "\n",
        "import pandas as pd\n",
        "df = pd.DataFrame(columns=['name','age','salary'])\n",
        "\n",
        "df.loc[0] = ['Aishwarya',20,99.00]\n",
        "df.loc[1] = ['Saloni',17,80.00]\n",
        "df.loc[2] = ['Sayali',18,90.00]\n",
        "df.loc[3] = ['Sita',21,95.00]\n",
        "df.loc[4] = ['Sanika',15,80.00]\n",
        "df.loc[5] = ['Gautami',16,85.00]\n",
        "df.loc[6] = ['Komal',17,77.00]\n",
        "df.loc[7] = ['Rita',20,78.00]\n",
        "df.loc[8] = ['Rutuja',20,91.00]\n",
        "df.loc[9] = ['Riya',20,75.00]\n",
        "\n",
        "print(df)\n"
      ],
      "metadata": {
        "id": "lxNzzFnpzqKE"
      },
      "execution_count": null,
      "outputs": []
    },
    {
      "cell_type": "code",
      "source": [
        "#19,28\n",
        "'''Write a python program\n",
        "1. To create  a dataframe containing columns name,age and percentage.\n",
        "Add 10 rows to the dataframe.View the dataframe.\n",
        "2.To print the shape,number of rows-columns,data types,feature names and the description of the data\n",
        "3.To Add 5 rows with duplicate values and missing values.Add a  column 'remarks' with empty values. Display the data  '''\n",
        "\n",
        "\n",
        "import pandas as pd\n",
        "df = pd.DataFrame(columns=['name','age','salary'])\n",
        "df\n",
        "\n",
        "df.loc[0] = ['Aishwarya',20,99.00]\n",
        "df.loc[1] = ['Mona',17,80.00]\n",
        "df.loc[2] = ['Sayali',18,90.00]\n",
        "df.loc[3] = ['Sita',21,95.00]\n",
        "df.loc[4] = ['Sanika',15,80.00]\n",
        "df.loc[5] = ['Gautami',16,85.00]\n",
        "df.loc[6] = ['Komal',17,77.00]\n",
        "df.loc[7] = ['Rita',20,78.00]\n",
        "df.loc[8] = ['Rutuja',20,91.00]\n",
        "df.loc[9] = ['Riya',20,75.00]\n",
        "df.loc[10] = ['Saloni',20,68.00]\n",
        "\n",
        "print('Shape: ',df.shape)\n",
        "print('number of rows:  ',df.shape[0])\n",
        "print('number of columns:  ',df.shape[1])\n",
        "print('datatypes of all columns',df.dtypes)\n",
        "print('Information of data: \\n',df.info())\n",
        "print('Describing the data: \\n',df.describe())\n",
        "\n",
        "df.loc[11]=['s',20,83]\n",
        "df.loc[12]=['s',20,83]\n",
        "df.loc[13]=[None,25,80]\n",
        "df.loc[14]=['v',20,77]\n",
        "df.loc[15]=['w',None,91]\n",
        "df['remarks']=None\n",
        "print(df)\n",
        "print(\"missing value:\\n\",df.isnull())\n",
        "print(\"dublicet value:\\n\",df.duplicated())\n"
      ],
      "metadata": {
        "id": "E7zbwxRSzqVn"
      },
      "execution_count": null,
      "outputs": []
    },
    {
      "cell_type": "code",
      "source": [
        "#20\n",
        "'''Add two outliers to the above data and display the box plot'''\n",
        "\n",
        "import matplotlib.pyplot as plt\n",
        "import numpy as np\n",
        "np.random.seed(10)\n",
        "data1 = np.random.normal(100,10,200)\n",
        "data2 = np.random.normal(90,20,200)\n",
        "data3 = np.random.normal(80,30,200)\n",
        "data4 = np.random.normal(70,40,200)\n",
        "data = [data1,data2,data3,data4]\n",
        "plt.boxplot(data)\n",
        "plt.show()\n"
      ],
      "metadata": {
        "id": "epM3g-azzqgd"
      },
      "execution_count": null,
      "outputs": []
    },
    {
      "cell_type": "code",
      "source": [
        "#9\n",
        "'''Write a program in python to perform following task(Use winequality-red.csv)\n",
        "Import Dataset and do the followings:\n",
        "a) Describing the dataset\n",
        "b) Shape of the dataset\n",
        "c) Display first 3 rows from dataset'''\n",
        "\n",
        "import pandas as pd\n",
        "df = pd.read_csv('winequality-red.csv')\n",
        "\n",
        "print(\"dat5a description\",df.describe())\n",
        "print(\"\\n\\nData shape\",df.shape)\n",
        "print(\"\\n\\n First 3 rows\",df.head(3))\n",
        "\n",
        "\n"
      ],
      "metadata": {
        "id": "E_tG_S2PzqoX"
      },
      "execution_count": null,
      "outputs": []
    },
    {
      "cell_type": "code",
      "source": [
        "#2,6\n",
        "'''Write a python program to generate a line plot of name vs salary'''\n",
        "\n",
        "import matplotlib.pyplot as plt\n",
        "import numpy as np\n",
        "import pandas as pd\n",
        "df=pd.read_csv('Data.csv')\n",
        "df = pd.DataFrame(df,columns=['name','salary'])\n",
        "df.loc[0] = ['Sanika',100000]\n",
        "df.loc[1] = ['Tanaya',200000]\n",
        "df.loc[2] = ['Gautami',300000]\n",
        "df.loc[3] = ['Saloni',250000]\n",
        "df.loc[4] = ['Komal',350000]\n",
        "df.loc[5] = ['Riya',400000]\n",
        "df.plot('name','salary')\n",
        "plt.title('Line Plot: Name vs Salary')\n",
        "plt.show()"
      ],
      "metadata": {
        "id": "z2zw0fS0zq0h"
      },
      "execution_count": null,
      "outputs": []
    },
    {
      "cell_type": "code",
      "source": [
        "#Slip-22\n",
        "'''Dataset name: winequality-red.csv\n",
        "a. Rescaling: Normalised the dataset using MinMaxScaler tasks\n",
        "b. Standardizing Data (transfrom them into a standard Gaussian distribution with a mean of 0 and a standard deviation of 1)\n",
        "c. Normalizing data (rescale each observation to a length of 1(a unit form). For this,use the Normalizer class.) '''\n",
        "\n",
        "#Slip-23\n",
        "'''Write a program in python to perform following task\n",
        "a. Rescaling: Normalised the dataset using MinMaxScaler class\n",
        "b. Standardizing Data (transform them into a standard Gaussian distribution with a mean of 0 and a standard deviation of 1)\n",
        "c. Binarizing Data using we use the Binarizer class (Using  a binary threshold,it is possible to transform our data by marking the values\n",
        "above it 1 and those equal to or below it,0)'''\n",
        "\n",
        "#8\n",
        "'''Write a program in python to perform following task:\n",
        "Standardizing data (transform them into a standard Gaussian distribution with a mean of 0\n",
        "and a standard deviation of 1)\n",
        "(Use winequality-red.csv)'''\n",
        "\n",
        "import scipy.stats as s\n",
        "import pandas as pd\n",
        "from sklearn import preprocessing\n",
        "df = pd.read_csv(\"winequality-red.csv\")\n",
        "print(\"\\n\\nData Scaled Between 0 and 1\")\n",
        "data_scaler = preprocessing.MinMaxScaler(feature_range=(0,1))\n",
        "data_scaled = data_scaler.fit_transform(df)\n",
        "print(\"\\n Min Max Scaled Data\")\n",
        "print(\"------------------------\")\n",
        "print(data_scaled.round(2))\n",
        "\n",
        "\n",
        "print(\" Original Data \\n\")\n",
        "print(df)\n",
        "print(\"\\n Initial Mean : \",s.tmean(df).round(2))\n",
        "print(\"\\n\\nInitial Standard deviation :\")\n",
        "print(\"-----------------------------------\")\n",
        "print(round(df.std(),2))\n",
        "df_scaled = preprocessing.scale(df)\n",
        "df_scaled.mean(axis=0)\n",
        "df_scaled.std(axis=0)\n",
        "print(\"\\n Standardized Data \\n\",df_scaled.round(2))\n",
        "print(\"\\n Scaled Mean :\\n\",s.tmean(df_scaled).round(2))\n",
        "print(\"\\n Scaled Standard Deviation \\n\",round(df_scaled.std(),2))\n",
        "\n",
        "\n",
        "dn = preprocessing.Normalizer(df)\n",
        "print(\"\\n L1 Normalized Data \")\n",
        "print(\"----------------------\")\n",
        "print(dn)\n",
        "\n",
        "data_binarized = preprocessing.Binarizer(threshold=5).transform(df)\n",
        "print(\"\\nBinarized data \")\n",
        "print(\"------------------\")\n",
        "print(data_binarized)"
      ],
      "metadata": {
        "id": "TYQWK1Dc0EV0"
      },
      "execution_count": null,
      "outputs": []
    },
    {
      "cell_type": "code",
      "source": [
        "#delimiter.py\n",
        "import pandas as pd\n",
        "df=pd.read_csv('winequality')\n",
        "#import pandas as pd\n",
        "delimiter=';'\n",
        "df=pd.read_csv('winequality-red.csv',delimiter=delimiter)\n",
        "print(df)\n"
      ],
      "metadata": {
        "id": "tbuKIO2L0EiU"
      },
      "execution_count": null,
      "outputs": []
    }
  ]
}
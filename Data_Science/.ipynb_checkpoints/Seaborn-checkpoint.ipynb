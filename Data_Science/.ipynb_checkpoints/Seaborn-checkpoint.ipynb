{
 "cells": [
  {
   "cell_type": "code",
   "execution_count": null,
   "id": "dfd03e6d-b0e5-4fbf-8b20-9cc3714f73ff",
   "metadata": {},
   "outputs": [],
   "source": [
    "# Installation commands\n",
    "# pip3 install seaborn\n",
    "# conda install seaborn\n",
    "\n",
    "# Importing libraries\n",
    "import seaborn as sns\n",
    "import matplotlib.pyplot as plt\n",
    "\n",
    "# Accessing built-in datasets\n",
    "sns.get_dataset_names()\n",
    "iris_df = sns.load_dataset('iris')\n",
    "tips_df = sns.load_dataset('tips')\n",
    "titanic_df = sns.load_dataset('titanic')\n",
    "exercise_df = sns.load_dataset('exercise')\n",
    "\n",
    "# Data frame operations\n",
    "iris_df.head()\n"
   ]
  },
  {
   "cell_type": "code",
   "execution_count": null,
   "id": "ec8de887-1c5d-46b5-b7b4-4325b274b685",
   "metadata": {},
   "outputs": [],
   "source": [
    "\n",
    "# Univariate Distribution Plots (Distplot)\n",
    "sns.histplot(iris_df['petal_length'])\n",
    "sns.histplot(iris_df['petal_length'], kde=False)\n",
    "sns.histplot(iris_df['petal_length'], stat='density', kde=True)\n"
   ]
  },
  {
   "cell_type": "code",
   "execution_count": null,
   "id": "90750389-d780-420c-a171-2b217d527d78",
   "metadata": {},
   "outputs": [],
   "source": [
    "\n",
    "# Bivariate Distribution Plots (Jointplot)\n",
    "# Scatter plot with histograms\n",
    "sns.jointplot(x='petal_length', y='petal_width', data=iris_df)\n"
   ]
  },
  {
   "cell_type": "code",
   "execution_count": null,
   "id": "685dcaa3-6d90-4600-a051-538de4bd45d1",
   "metadata": {},
   "outputs": [],
   "source": [
    "\n",
    "# Hex bin plot\n",
    "sns.jointplot(x='petal_length', y='petal_width', data=iris_df, kind='hex')\n"
   ]
  },
  {
   "cell_type": "code",
   "execution_count": null,
   "id": "2f9df5c4-bf6b-472f-bb95-49aefab2c1d3",
   "metadata": {},
   "outputs": [],
   "source": [
    "\n",
    "# KDE plot\n",
    "sns.jointplot(x='petal_length', y='petal_width', data=iris_df, kind='kde')\n"
   ]
  },
  {
   "cell_type": "code",
   "execution_count": null,
   "id": "3d2a6749-f7d4-40f1-9405-2757dcf3e999",
   "metadata": {},
   "outputs": [],
   "source": [
    "\n",
    "# Pairwise Relationship Plots (Pairplot)\n",
    "sns.set_style('ticks')\n",
    "sns.pairplot(iris_df, hue='species', kind='scatter', diag_kind='kde', palette='husl')\n"
   ]
  },
  {
   "cell_type": "code",
   "execution_count": null,
   "id": "0751f613-0b9e-40a6-8719-d8452916beef",
   "metadata": {},
   "outputs": [],
   "source": [
    "\n",
    "# Categorical Scatter Plots\n",
    "# Stripplot\n",
    "sns.stripplot(x='species', y='petal_length', data=iris_df)\n",
    "sns.stripplot(x='species', y='petal_length', data=iris_df, jitter=False)\n"
   ]
  },
  {
   "cell_type": "code",
   "execution_count": null,
   "id": "758969c9-4570-42b6-8cd9-82dca45930f1",
   "metadata": {},
   "outputs": [],
   "source": [
    "\n",
    "# Swarmplot\n",
    "sns.swarmplot(x='species', y='petal_length', data=iris_df)\n"
   ]
  },
  {
   "cell_type": "code",
   "execution_count": null,
   "id": "7e4e4c92-3585-4640-bd47-9a6ec9cb4ef5",
   "metadata": {},
   "outputs": [],
   "source": [
    "\n",
    "# Box Plots\n",
    "# Vertical Boxplot\n",
    "sns.boxplot(x='species', y='petal_length', data=iris_df)\n"
   ]
  },
  {
   "cell_type": "code",
   "execution_count": null,
   "id": "6491d86c-0e4c-4f2a-8492-5366fdc2d383",
   "metadata": {},
   "outputs": [],
   "source": [
    "\n",
    "# Horizontal Boxplot (Wide Form Data)\n",
    "sns.boxplot(data=iris_df, orient='h')\n"
   ]
  },
  {
   "cell_type": "code",
   "execution_count": null,
   "id": "d0935987-4895-413f-8996-4a03d29eb73d",
   "metadata": {},
   "outputs": [],
   "source": [
    "\n",
    "# Violin Plots\n",
    "sns.violinplot(x='day', y='total_bill', data=tips_df)\n",
    "sns.violinplot(x='day', y='total_bill', data=tips_df, hue='sex')\n"
   ]
  },
  {
   "cell_type": "code",
   "execution_count": null,
   "id": "77edea30-10f8-44b7-9691-c9ba059de683",
   "metadata": {},
   "outputs": [],
   "source": [
    "\n",
    "# Bar Plots\n",
    "sns.barplot(x='sex', y='survived', data=titanic_df, hue='class')\n"
   ]
  },
  {
   "cell_type": "code",
   "execution_count": null,
   "id": "a4bccf8e-57ed-48a8-b845-2b9318371bed",
   "metadata": {},
   "outputs": [],
   "source": [
    "\n",
    "# Count Plots\n",
    "sns.countplot(data=titanic_df, x='class')\n",
    "sns.countplot(data=titanic_df, x='class', palette='Greens')\n"
   ]
  },
  {
   "cell_type": "code",
   "execution_count": null,
   "id": "51372fa7-ef49-4a17-a40f-a3707d226c13",
   "metadata": {},
   "outputs": [],
   "source": [
    "\n",
    "# Point Plots\n",
    "sns.pointplot(x='sex', y='survived', data=titanic_df, hue='class')\n"
   ]
  },
  {
   "cell_type": "code",
   "execution_count": null,
   "id": "364ae019-9dd7-4500-8767-1024d672ae55",
   "metadata": {},
   "outputs": [],
   "source": [
    "\n",
    "# Factor Plots (now catplot in newer versions)\n",
    "# Point plot kind\n",
    "sns.catplot(x='time', y='pulse', data=exercise_df, kind='point')\n",
    "\n",
    "# Violin plot kind\n",
    "sns.catplot(x='time', y='pulse', data=exercise_df, kind='violin')\n",
    "\n",
    "# With hue parameter\n",
    "sns.catplot(x='time', y='pulse', data=exercise_df, kind='violin', hue='diet')\n",
    "\n",
    "# Count plot kind\n",
    "sns.catplot(data=titanic_df, x='deck', kind='count', hue='deck')\n"
   ]
  },
  {
   "cell_type": "code",
   "execution_count": null,
   "id": "2c8130f8-0dcd-4bc2-8465-b0d5829e686a",
   "metadata": {},
   "outputs": [],
   "source": [
    "\n",
    "# Linear Relationship Plots\n",
    "# Regression plot (regplot)\n",
    "sns.regplot(x='total_bill', y='tip', data=tips_df)\n"
   ]
  },
  {
   "cell_type": "code",
   "execution_count": null,
   "id": "ca944228-1f27-404d-ba98-03bb36c2cbe7",
   "metadata": {},
   "outputs": [],
   "source": [
    "\n",
    "# Linear model plot (lmplot)\n",
    "sns.lmplot(x='total_bill', y='tip', data=tips_df)\n",
    "sns.lmplot(x='size', y='tip', data=tips_df)\n"
   ]
  },
  {
   "cell_type": "code",
   "execution_count": null,
   "id": "9ee67a06-b4e2-4ca4-9fbe-e1f526f9904a",
   "metadata": {},
   "outputs": [],
   "source": [
    "\n",
    "# Facet Grid\n",
    "g = sns.FacetGrid(tips_df, col='time')\n",
    "g.map(plt.hist, 'tip')\n",
    "\n",
    "# Pair Grid\n",
    "g = sns.PairGrid(tips_df)\n",
    "g.map(plt.scatter)\n",
    "g.map_diag(plt.hist)\n",
    "g.map_upper(plt.scatter)\n",
    "g.map_lower(sns.kdeplot, cmap=plt.cm.Blues)\n",
    "g.map_diag(sns.kdeplot, legend=False, lw=3)"
   ]
  }
 ],
 "metadata": {
  "kernelspec": {
   "display_name": "Python 3 (ipykernel)",
   "language": "python",
   "name": "python3"
  },
  "language_info": {
   "codemirror_mode": {
    "name": "ipython",
    "version": 3
   },
   "file_extension": ".py",
   "mimetype": "text/x-python",
   "name": "python",
   "nbconvert_exporter": "python",
   "pygments_lexer": "ipython3",
   "version": "3.13.3"
  }
 },
 "nbformat": 4,
 "nbformat_minor": 5
}

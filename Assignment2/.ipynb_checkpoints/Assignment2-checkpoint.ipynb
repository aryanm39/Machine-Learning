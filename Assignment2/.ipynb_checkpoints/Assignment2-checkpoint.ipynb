{
 "cells": [
  {
   "cell_type": "markdown",
   "id": "9c55d777-d462-4320-a9f4-b30ebd9c52f9",
   "metadata": {},
   "source": [
    "## Q1"
   ]
  },
  {
   "cell_type": "code",
   "execution_count": null,
   "id": "0a1db2cc-4f6b-41f2-901b-66087c110119",
   "metadata": {},
   "outputs": [],
   "source": [
    "import pandas as pd\n",
    "import matplotlib.pyplot as plt\n",
    "\n",
    "df=pd.read_csv(\"housearea.csv\")\n",
    "df.head()"
   ]
  },
  {
   "cell_type": "code",
   "execution_count": null,
   "id": "5354bfa5-13dc-46c1-a17b-ae5fedc7da06",
   "metadata": {},
   "outputs": [],
   "source": [
    "df.isnull()"
   ]
  },
  {
   "cell_type": "code",
   "execution_count": null,
   "id": "bd8e840d-143a-47ad-89f8-c7182b747e5c",
   "metadata": {},
   "outputs": [],
   "source": [
    "df.isnull().sum()"
   ]
  },
  {
   "cell_type": "code",
   "execution_count": null,
   "id": "37a5a803-2207-4bfe-a86b-e425a7889b96",
   "metadata": {},
   "outputs": [],
   "source": [
    "import math as mt\n",
    "bmean=mt.floor(df['bedroom'].mean())\n",
    "df.bedroom=df.bedroom.fillna(bmean)\n",
    "df"
   ]
  },
  {
   "cell_type": "code",
   "execution_count": null,
   "id": "56074cc6-833c-4e9a-8efb-fe91e3e5e7a0",
   "metadata": {},
   "outputs": [],
   "source": [
    "x=df.drop('price',axis='columns')\n",
    "x"
   ]
  },
  {
   "cell_type": "code",
   "execution_count": null,
   "id": "89b7a89f-c9f3-4daf-ad01-b9d478ad73f6",
   "metadata": {},
   "outputs": [],
   "source": [
    "y=df['price']\n",
    "y"
   ]
  },
  {
   "cell_type": "code",
   "execution_count": null,
   "id": "9cd278f2-1430-4baa-bfce-68a8e177cd95",
   "metadata": {},
   "outputs": [],
   "source": [
    "from sklearn.model_selection import train_test_split\n",
    "x_train,x_test,y_train,y_test=train_test_split(x,y,test_size=0.2)\n",
    "len(x_train)"
   ]
  },
  {
   "cell_type": "code",
   "execution_count": null,
   "id": "7e204956-618f-48ac-a60b-1f997724f90e",
   "metadata": {},
   "outputs": [],
   "source": [
    "len(x_test)"
   ]
  },
  {
   "cell_type": "code",
   "execution_count": null,
   "id": "ceb62198-bb9c-4b2f-be27-61fde97e4902",
   "metadata": {},
   "outputs": [],
   "source": [
    "from sklearn.linear_model import LinearRegression\n",
    "reg=LinearRegression()"
   ]
  },
  {
   "cell_type": "code",
   "execution_count": null,
   "id": "8d28cc73-1a21-475b-bba4-d2e1876f9b9c",
   "metadata": {},
   "outputs": [],
   "source": [
    "reg.fit(x_train,y_train)"
   ]
  },
  {
   "cell_type": "code",
   "execution_count": null,
   "id": "a44d00c6-de64-4acf-8532-eaa9d8b6a9ca",
   "metadata": {},
   "outputs": [],
   "source": [
    "reg.predict([[4200,4,5]])"
   ]
  },
  {
   "cell_type": "markdown",
   "id": "1f18a5ca-8d2a-47ad-a230-5948b4f7ca44",
   "metadata": {},
   "source": [
    "## Q2"
   ]
  },
  {
   "cell_type": "code",
   "execution_count": null,
   "id": "b481a139-6d1a-4d4e-b077-2cf55cd2758c",
   "metadata": {},
   "outputs": [],
   "source": [
    "import pandas as pd\n",
    "import matplotlib.pyplot as plt\n",
    "df=pd.read_csv(\"crash.csv\")\n",
    "df.head()"
   ]
  },
  {
   "cell_type": "code",
   "execution_count": null,
   "id": "3cb9f468-aa55-4ae3-8e50-6489a2ca6be9",
   "metadata": {},
   "outputs": [],
   "source": [
    "x=df.drop('fate',axis='columns')\n",
    "x"
   ]
  },
  {
   "cell_type": "code",
   "execution_count": null,
   "id": "21b4bd23-f932-4db5-bbdd-98c8d89a12dd",
   "metadata": {},
   "outputs": [],
   "source": [
    "y=df['fate']\n",
    "y"
   ]
  },
  {
   "cell_type": "code",
   "execution_count": null,
   "id": "679dee44-b015-4871-bbe3-b463612578db",
   "metadata": {},
   "outputs": [],
   "source": [
    "from sklearn.model_selection import train_test_split\n",
    "x_train,x_test,y_train,y_test=train_test_split(x,y,test_size=0.2)\n",
    "len(x_train)"
   ]
  },
  {
   "cell_type": "code",
   "execution_count": null,
   "id": "c3b6d414-55ec-4b2d-b7ea-1df7ba73913b",
   "metadata": {},
   "outputs": [],
   "source": [
    "len(x_test)"
   ]
  },
  {
   "cell_type": "code",
   "execution_count": null,
   "id": "b873387f-add1-426b-9be2-04c33d47ad15",
   "metadata": {},
   "outputs": [],
   "source": [
    "from sklearn.linear_model import LogisticRegression\n",
    "model=LogisticRegression()\n",
    "model.fit(x_train,y_train)"
   ]
  },
  {
   "cell_type": "code",
   "execution_count": null,
   "id": "0658a6de-12d5-4531-a53c-852cf1886a4c",
   "metadata": {},
   "outputs": [],
   "source": [
    "model.score(x_test,y_test)"
   ]
  },
  {
   "cell_type": "code",
   "execution_count": null,
   "id": "91dc59e8-ae44-433b-9925-24092aa507cc",
   "metadata": {},
   "outputs": [],
   "source": [
    "model.predict([[25,110]])"
   ]
  },
  {
   "cell_type": "code",
   "execution_count": null,
   "id": "a6245e28-4195-4e39-8781-953821253cf5",
   "metadata": {},
   "outputs": [],
   "source": [
    "model.predict([[38,140]])"
   ]
  },
  {
   "cell_type": "markdown",
   "id": "8986fe04-3645-4048-a68f-8347f0e1f4e9",
   "metadata": {},
   "source": [
    "## Q3"
   ]
  },
  {
   "cell_type": "code",
   "execution_count": null,
   "id": "55fe197e-115c-4822-9b2d-a02c560c7989",
   "metadata": {},
   "outputs": [],
   "source": [
    "import pandas as pd\n",
    "df=pd.read_csv(\"position_sal.csv\")\n",
    "df.head()"
   ]
  },
  {
   "cell_type": "code",
   "execution_count": null,
   "id": "e3c82e0a-b8d1-46ab-af8c-86c3a9dd9266",
   "metadata": {},
   "outputs": [],
   "source": [
    "x=df.iloc[:,1:2].values\n",
    "y=df.iloc[:,2:].values"
   ]
  }
 ],
 "metadata": {
  "kernelspec": {
   "display_name": "Python 3 (ipykernel)",
   "language": "python",
   "name": "python3"
  },
  "language_info": {
   "codemirror_mode": {
    "name": "ipython",
    "version": 3
   },
   "file_extension": ".py",
   "mimetype": "text/x-python",
   "name": "python",
   "nbconvert_exporter": "python",
   "pygments_lexer": "ipython3",
   "version": "3.13.3"
  }
 },
 "nbformat": 4,
 "nbformat_minor": 5
}

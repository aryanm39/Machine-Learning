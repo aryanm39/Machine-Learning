{
 "cells": [
  {
   "cell_type": "code",
   "execution_count": 3,
   "id": "d75c61b9",
   "metadata": {},
   "outputs": [
    {
     "data": {
      "text/plain": [
       "array([[1795000.]])"
      ]
     },
     "execution_count": 3,
     "metadata": {},
     "output_type": "execute_result"
    }
   ],
   "source": [
    "import pandas as pd\n",
    "from sklearn.model_selection import train_test_split\n",
    "from sklearn.linear_model import LinearRegression\n",
    "\n",
    "df = pd.read_csv(r'housearea.csv')\n",
    "X = df[['area','bedroom','windows']]\n",
    "y = df[['price']]\n",
    "\n",
    "X_train, X_test, y_train, y_test = train_test_split(X, y, test_size=0.2, random_state=42)\n",
    "model = LinearRegression()\n",
    "model.fit(X_train, y_train)\n",
    "new_data = pd.DataFrame([[2600, 4, 3]], columns=['area', 'bedroom', 'windows'])\n",
    "y_pred = model.predict(new_data)\n",
    "\n",
    "y_pred"
   ]
  },
  {
   "cell_type": "code",
   "execution_count": 5,
   "id": "60c83f75",
   "metadata": {},
   "outputs": [
    {
     "name": "stdout",
     "output_type": "stream",
     "text": [
      "Survivability prediction (1=Survived, 0=Not Survived): 1\n",
      "Probability of survival: 0.8731588763096251\n"
     ]
    }
   ],
   "source": [
    "import pandas as pd\n",
    "from sklearn.model_selection import train_test_split\n",
    "from sklearn.linear_model import LogisticRegression\n",
    "\n",
    "\n",
    "\n",
    "df = pd.read_csv(r\"crash.csv\")   \n",
    "\n",
    "\n",
    "X = df[['age', 'speed']]\n",
    "y = df['fate']\n",
    "\n",
    "\n",
    "X_train, X_test, y_train, y_test = train_test_split(\n",
    "    X, y, test_size=0.2, random_state=42\n",
    ")\n",
    "\n",
    "\n",
    "model = LogisticRegression()\n",
    "model.fit(X_train, y_train)\n",
    "\n",
    "\n",
    "y_pred = model.predict(X_test)\n",
    "\n",
    "\n",
    "sample = pd.DataFrame([[28, 120]], columns=['age', 'speed'])\n",
    "print(\"Survivability prediction (1=Survived, 0=Not Survived):\", model.predict(sample)[0])\n",
    "print(\"Probability of survival:\", model.predict_proba(sample)[0][1])\n"
   ]
  },
  {
   "cell_type": "code",
   "execution_count": null,
   "id": "d6e89f1b",
   "metadata": {},
   "outputs": [],
   "source": [
    "import pandas as pd\n",
    "import numpy as np\n",
    "import matplotlib.pyplot as plt\n",
    "from sklearn.linear_model import LinearRegression\n",
    "from sklearn.preprocessing import PolynomialFeatures\n",
    "from sklearn.metrics import r2_score\n",
    "\n",
    "df = pd.read_csv(r\"position_sal.csv\")\n",
    "\n",
    "X = df[['level']].values\n",
    "y = df['salary'].values\n",
    "\n",
    "lin_reg = LinearRegression()\n",
    "lin_reg.fit(X, y)\n",
    "\n",
    "poly = PolynomialFeatures(degree=4)\n",
    "X_poly = poly.fit_transform(X)\n",
    "\n",
    "poly_reg = LinearRegression()\n",
    "poly_reg.fit(X_poly, y)\n",
    "\n",
    "y_pred_lin = lin_reg.predict(X)\n",
    "y_pred_poly = poly_reg.predict(X_poly)\n",
    "\n",
    "r2_lin = r2_score(y, y_pred_lin)\n",
    "r2_poly = r2_score(y, y_pred_poly)\n",
    "\n",
    "print(\"R2 Score - Linear Regression:\", r2_lin)\n",
    "print(\"R2 Score - Polynomial Regression:\", r2_poly)\n",
    "\n",
    "level_11 = [[11]]\n",
    "level_12 = [[12]]\n",
    "\n",
    "print(\"Linear Prediction for Level 11:\", lin_reg.predict(level_11)[0])\n",
    "print(\"Polynomial Prediction for Level 11:\", poly_reg.predict(poly.transform(level_11))[0])\n",
    "print(\"Polynomial Prediction for Level 12:\", poly_reg.predict(poly.transform(level_12))[0])\n",
    "\n",
    "plt.scatter(X, y, color=\"red\", label=\"Actual Data\")\n",
    "plt.plot(X, y_pred_lin, color=\"blue\", label=\"Linear Regression\")\n",
    "plt.plot(X, y_pred_poly, color=\"green\", label=\"Polynomial Regression (deg=4)\")\n",
    "plt.xlabel(\"Position Level\")\n",
    "plt.ylabel(\"Salary\")\n",
    "plt.legend()\n",
    "plt.show()"
   ]
  },
  {
   "cell_type": "code",
   "execution_count": null,
   "id": "730ec923",
   "metadata": {},
   "outputs": [],
   "source": []
  }
 ],
 "metadata": {
  "kernelspec": {
   "display_name": "Python 3 (ipykernel)",
   "language": "python",
   "name": "python3"
  },
  "language_info": {
   "codemirror_mode": {
    "name": "ipython",
    "version": 3
   },
   "file_extension": ".py",
   "mimetype": "text/x-python",
   "name": "python",
   "nbconvert_exporter": "python",
   "pygments_lexer": "ipython3",
   "version": "3.13.3"
  }
 },
 "nbformat": 4,
 "nbformat_minor": 5
}

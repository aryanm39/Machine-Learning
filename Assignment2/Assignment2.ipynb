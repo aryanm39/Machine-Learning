{
 "cells": [
  {
   "cell_type": "markdown",
   "id": "68d2e392-bb00-4ff6-9558-54d7f060c593",
   "metadata": {},
   "source": [
    "## Q1"
   ]
  },
  {
   "cell_type": "code",
   "execution_count": 8,
   "id": "4155fb12-15d8-4df5-9252-639e87d3d3a0",
   "metadata": {},
   "outputs": [
    {
     "name": "stdout",
     "output_type": "stream",
     "text": [
      "[[499473.68421052]]\n"
     ]
    }
   ],
   "source": [
    "import pandas as pd\n",
    "from sklearn.model_selection import train_test_split\n",
    "from sklearn.linear_model import LinearRegression\n",
    "\n",
    "df = pd.read_csv(\"./housearea.csv\")\n",
    "\n",
    "x = df[['area', 'bedroom', 'windows']]\n",
    "y = df[['price']]\n",
    "\n",
    "x_train, x_test, y_train, y_test = train_test_split(x, y, test_size=0.2)\n",
    "\n",
    "model = LinearRegression()\n",
    "model.fit(x_train, y_train)\n",
    "\n",
    "area = [[400, 1, 2]]\n",
    "y_pred = model.predict(x_test)\n",
    "\n",
    "print(y_pred)\n"
   ]
  },
  {
   "cell_type": "markdown",
   "id": "828f1e8c-705c-426b-a420-554e2219db31",
   "metadata": {},
   "source": [
    "## Q2"
   ]
  },
  {
   "cell_type": "code",
   "execution_count": 24,
   "id": "8a095211-9c28-4486-8908-e8db25554e89",
   "metadata": {},
   "outputs": [
    {
     "name": "stdout",
     "output_type": "stream",
     "text": [
      "   age  speed\n",
      "0   25    110\n",
      "4   40    140\n",
      "[1 0]\n",
      "[[0.03836229 0.96163771]\n",
      " [0.95002091 0.04997909]]\n"
     ]
    }
   ],
   "source": [
    "import pandas as pd\n",
    "from sklearn.model_selection import train_test_split\n",
    "from sklearn.linear_model import LogisticRegression\n",
    "\n",
    "df = pd.read_csv(\"./crash.csv\")\n",
    "\n",
    "x = df[['age', 'speed']]\n",
    "y = df['fate']\n",
    "\n",
    "x_train, x_test, y_train, y_test = train_test_split(x, y, test_size=0.2)\n",
    "\n",
    "model = LogisticRegression()\n",
    "model.fit(x_train, y_train)\n",
    "\n",
    "data = [[20, 120]]\n",
    "\n",
    "y_pred = model.predict(x_test)\n",
    "\n",
    "print(x_test)\n",
    "print(y_pred)\n",
    "print(model.predict_proba(x_test))"
   ]
  },
  {
   "cell_type": "markdown",
   "id": "84155125-0f70-47a1-9d0e-7b4f773e7160",
   "metadata": {},
   "source": [
    "## Q3"
   ]
  },
  {
   "cell_type": "code",
   "execution_count": 38,
   "id": "ed35f93d-314d-42d9-b74d-b3a4e9b80faf",
   "metadata": {},
   "outputs": [
    {
     "name": "stdout",
     "output_type": "stream",
     "text": [
      "For Level 11 : 1780833.3333335808\n",
      "For Level 12 : 3035984.8484855676\n"
     ]
    },
    {
     "name": "stderr",
     "output_type": "stream",
     "text": [
      "/usr/local/lib/python3.10/dist-packages/sklearn/base.py:493: UserWarning: X does not have valid feature names, but PolynomialFeatures was fitted with feature names\n",
      "  warnings.warn(\n",
      "/usr/local/lib/python3.10/dist-packages/sklearn/base.py:493: UserWarning: X does not have valid feature names, but PolynomialFeatures was fitted with feature names\n",
      "  warnings.warn(\n"
     ]
    }
   ],
   "source": [
    "import pandas as pd\n",
    "from sklearn.model_selection import train_test_split\n",
    "from sklearn.preprocessing import PolynomialFeatures\n",
    "from sklearn.linear_model import LinearRegression\n",
    "\n",
    "df = pd.read_csv(\"./position_sal.csv\")\n",
    "\n",
    "x = df[['level']]\n",
    "y = df['salary']\n",
    "\n",
    "Poly = PolynomialFeatures(degree=4)\n",
    "x_poly = Poly.fit_transform(x)\n",
    "\n",
    "poly_reg = LinearRegression()\n",
    "poly_reg.fit(x_poly, y)\n",
    "\n",
    "y_pred = poly_reg.predict(Poly.transform([[11]]))[0]\n",
    "print('For Level 11 :', y_pred)\n",
    "\n",
    "y_pred = poly_reg.predict(Poly.transform([[12]]))[0]\n",
    "print('For Level 12 :', y_pred)\n"
   ]
  },
  {
   "cell_type": "code",
   "execution_count": null,
   "id": "fe18b688-ed80-4491-bc1c-5ed44411de35",
   "metadata": {},
   "outputs": [],
   "source": []
  },
  {
   "cell_type": "code",
   "execution_count": null,
   "id": "e29b525a-442a-4aa4-806a-1cebde31e7f8",
   "metadata": {},
   "outputs": [],
   "source": []
  }
 ],
 "metadata": {
  "kernelspec": {
   "display_name": "Python 3 (ipykernel)",
   "language": "python",
   "name": "python3"
  },
  "language_info": {
   "codemirror_mode": {
    "name": "ipython",
    "version": 3
   },
   "file_extension": ".py",
   "mimetype": "text/x-python",
   "name": "python",
   "nbconvert_exporter": "python",
   "pygments_lexer": "ipython3",
   "version": "3.10.12"
  }
 },
 "nbformat": 4,
 "nbformat_minor": 5
}

{
 "cells": [
  {
   "cell_type": "code",
   "execution_count": null,
   "id": "cbefdcdd-677e-4701-aca1-5be261386922",
   "metadata": {},
   "outputs": [],
   "source": []
  }
 ],
 "metadata": {
  "kernelspec": {
   "display_name": "",
   "name": ""
  },
  "language_info": {
   "name": ""
  }
 },
 "nbformat": 4,
 "nbformat_minor": 5
}
